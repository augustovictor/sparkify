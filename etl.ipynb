{
 "cells": [
  {
   "cell_type": "markdown",
   "metadata": {
    "editable": true
   },
   "source": [
    "# ETL Processes\n",
    "Use this notebook to develop the ETL process for each of your tables before completing the `etl.py` file to load the whole datasets."
   ]
  },
  {
   "cell_type": "code",
   "execution_count": 1,
   "metadata": {
    "editable": true
   },
   "outputs": [],
   "source": [
    "import os\n",
    "import glob\n",
    "import psycopg2\n",
    "import pandas as pd\n",
    "from sql_queries import *\n",
    "from create_tables import *"
   ]
  },
  {
   "cell_type": "code",
   "execution_count": 2,
   "metadata": {
    "editable": true
   },
   "outputs": [
    {
     "name": "stdout",
     "output_type": "stream",
     "text": [
      "creating database...\n"
     ]
    }
   ],
   "source": [
    "main()\n",
    "conn = psycopg2.connect(\"host=127.0.0.1 dbname=sparkifydb user=student password=student\")\n",
    "cur = conn.cursor()"
   ]
  },
  {
   "cell_type": "code",
   "execution_count": 3,
   "metadata": {
    "editable": true
   },
   "outputs": [],
   "source": [
    "def get_files(filepath):\n",
    "    all_files = []\n",
    "    for root, dirs, files in os.walk(filepath):\n",
    "        files = glob.glob(os.path.join(root,'*events.json'))\n",
    "        for f in files :\n",
    "            all_files.append(os.path.abspath(f))\n",
    "    \n",
    "    return all_files\n",
    "\n",
    "def get_song_data_files(filepath):\n",
    "    all_files = []\n",
    "    for root, dirs, files in os.walk(filepath):\n",
    "        files = glob.glob(os.path.join(root,'*.json'))\n",
    "        for f in files :\n",
    "            all_files.append(os.path.abspath(f))\n",
    "    \n",
    "    return all_files"
   ]
  },
  {
   "cell_type": "markdown",
   "metadata": {
    "editable": true
   },
   "source": [
    "# Process `song_data`\n",
    "In this first part, you'll perform ETL on the first dataset, `song_data`, to create the `songs` and `artists` dimensional tables.\n",
    "\n",
    "Let's perform ETL on a single song file and load a single record into each table to start.\n",
    "- Use the `get_files` function provided above to get a list of all song JSON files in `data/song_data`\n",
    "- Select the first song in this list\n",
    "- Read the song file and view the data"
   ]
  },
  {
   "cell_type": "code",
   "execution_count": 4,
   "metadata": {
    "editable": true
   },
   "outputs": [],
   "source": [
    "song_files = get_song_data_files('data/song_data')"
   ]
  },
  {
   "cell_type": "code",
   "execution_count": 5,
   "metadata": {
    "editable": true
   },
   "outputs": [
    {
     "name": "stdout",
     "output_type": "stream",
     "text": [
      "['/home/workspace/data/song_data/A/B/C/TRABCRU128F423F449.json', '/home/workspace/data/song_data/A/B/C/TRABCTK128F934B224.json', '/home/workspace/data/song_data/A/B/C/TRABCUQ128E0783E2B.json', '/home/workspace/data/song_data/A/B/C/TRABCIX128F4265903.json', '/home/workspace/data/song_data/A/B/C/TRABCYE128F934CE1D.json', '/home/workspace/data/song_data/A/B/C/TRABCEC128F426456E.json', '/home/workspace/data/song_data/A/B/C/TRABCXB128F4286BD3.json', '/home/workspace/data/song_data/A/B/C/TRABCAJ12903CDFCC2.json', '/home/workspace/data/song_data/A/B/C/TRABCPZ128F4275C32.json', '/home/workspace/data/song_data/A/B/C/TRABCKL128F423A778.json', '/home/workspace/data/song_data/A/B/C/TRABCEI128F424C983.json', '/home/workspace/data/song_data/A/B/C/TRABCFL128F149BB0D.json', '/home/workspace/data/song_data/A/B/C/.ipynb_checkpoints/TRABCAJ12903CDFCC2-checkpoint.json', '/home/workspace/data/song_data/A/B/C/.ipynb_checkpoints/TRABCEI128F424C983-checkpoint.json', '/home/workspace/data/song_data/A/B/C/.ipynb_checkpoints/TRABCRU128F423F449-checkpoint.json', '/home/workspace/data/song_data/A/B/B/TRABBBV128F42967D7.json', '/home/workspace/data/song_data/A/B/B/TRABBLU128F93349CF.json', '/home/workspace/data/song_data/A/B/B/TRABBXU128F92FEF48.json', '/home/workspace/data/song_data/A/B/B/TRABBAM128F429D223.json', '/home/workspace/data/song_data/A/B/B/TRABBJE12903CDB442.json', '/home/workspace/data/song_data/A/B/B/TRABBNP128F932546F.json', '/home/workspace/data/song_data/A/B/B/TRABBOP128F931B50D.json', '/home/workspace/data/song_data/A/B/B/TRABBZN12903CD9297.json', '/home/workspace/data/song_data/A/B/B/TRABBOR128F4286200.json', '/home/workspace/data/song_data/A/B/B/TRABBTA128F933D304.json', '/home/workspace/data/song_data/A/B/B/TRABBKX128F4285205.json', '/home/workspace/data/song_data/A/B/B/TRABBVJ128F92F7EAA.json', '/home/workspace/data/song_data/A/B/A/TRABACN128F425B784.json', '/home/workspace/data/song_data/A/B/A/TRABAWW128F4250A31.json', '/home/workspace/data/song_data/A/B/A/TRABATO128F42627E9.json', '/home/workspace/data/song_data/A/B/A/TRABAXL128F424FC50.json', '/home/workspace/data/song_data/A/B/A/TRABAFJ128F42AF24E.json', '/home/workspace/data/song_data/A/B/A/TRABAXR128F426515F.json', '/home/workspace/data/song_data/A/B/A/TRABAXV128F92F6AE3.json', '/home/workspace/data/song_data/A/B/A/TRABAZH128F930419A.json', '/home/workspace/data/song_data/A/B/A/TRABAFP128F931E9A1.json', '/home/workspace/data/song_data/A/B/A/TRABAIO128F42938F9.json', '/home/workspace/data/song_data/A/B/A/TRABAVQ12903CBF7E0.json', '/home/workspace/data/song_data/A/A/C/TRAACFV128F935E50B.json', '/home/workspace/data/song_data/A/A/C/TRAACLV128F427E123.json', '/home/workspace/data/song_data/A/A/C/TRAACVS128E078BE39.json', '/home/workspace/data/song_data/A/A/C/TRAACHN128F1489601.json', '/home/workspace/data/song_data/A/A/C/TRAACSL128F93462F4.json', '/home/workspace/data/song_data/A/A/C/TRAACTB12903CAAF15.json', '/home/workspace/data/song_data/A/A/C/TRAACOW128F933E35F.json', '/home/workspace/data/song_data/A/A/C/TRAACPE128F421C1B9.json', '/home/workspace/data/song_data/A/A/C/TRAACZK128F4243829.json', '/home/workspace/data/song_data/A/A/C/TRAACQT128F9331780.json', '/home/workspace/data/song_data/A/A/C/TRAACNS128F14A2DF5.json', '/home/workspace/data/song_data/A/A/C/TRAACIW12903CC0F6D.json', '/home/workspace/data/song_data/A/A/C/TRAACCG128F92E8A55.json', '/home/workspace/data/song_data/A/A/C/TRAACER128F4290F96.json', '/home/workspace/data/song_data/A/A/B/TRAABNV128F425CEE1.json', '/home/workspace/data/song_data/A/A/B/TRAABJV128F1460C49.json', '/home/workspace/data/song_data/A/A/B/TRAABVM128F92CA9DC.json', '/home/workspace/data/song_data/A/A/B/TRAABLR128F423B7E3.json', '/home/workspace/data/song_data/A/A/B/TRAABCL128F4286650.json', '/home/workspace/data/song_data/A/A/B/TRAABDL12903CAABBA.json', '/home/workspace/data/song_data/A/A/B/TRAABXG128F9318EBD.json', '/home/workspace/data/song_data/A/A/B/TRAABYN12903CFD305.json', '/home/workspace/data/song_data/A/A/B/TRAABRB128F9306DD5.json', '/home/workspace/data/song_data/A/A/B/TRAABJL12903CDCF1A.json', '/home/workspace/data/song_data/A/A/B/TRAABYW128F4244559.json', '/home/workspace/data/song_data/A/A/A/TRAAADZ128F9348C2E.json', '/home/workspace/data/song_data/A/A/A/TRAAARJ128F9320760.json', '/home/workspace/data/song_data/A/A/A/TRAAAPK128E0786D96.json', '/home/workspace/data/song_data/A/A/A/TRAAAVG12903CFA543.json', '/home/workspace/data/song_data/A/A/A/TRAAAFD128F92F423A.json', '/home/workspace/data/song_data/A/A/A/TRAAAVO128F93133D4.json', '/home/workspace/data/song_data/A/A/A/TRAAAAW128F429D538.json', '/home/workspace/data/song_data/A/A/A/TRAAAEF128F4273421.json', '/home/workspace/data/song_data/A/A/A/TRAAAMQ128F1460CD3.json', '/home/workspace/data/song_data/A/A/A/TRAAAMO128F1481E7F.json', '/home/workspace/data/song_data/A/A/A/TRAAABD128F429CF47.json', '/home/workspace/data/song_data/A/A/A/.ipynb_checkpoints/TRAAAAW128F429D538-checkpoint.json']\n"
     ]
    }
   ],
   "source": [
    "filepaths = song_files\n",
    "print(filepaths)"
   ]
  },
  {
   "cell_type": "code",
   "execution_count": 6,
   "metadata": {
    "editable": true
   },
   "outputs": [
    {
     "data": {
      "text/html": [
       "<div>\n",
       "<style scoped>\n",
       "    .dataframe tbody tr th:only-of-type {\n",
       "        vertical-align: middle;\n",
       "    }\n",
       "\n",
       "    .dataframe tbody tr th {\n",
       "        vertical-align: top;\n",
       "    }\n",
       "\n",
       "    .dataframe thead th {\n",
       "        text-align: right;\n",
       "    }\n",
       "</style>\n",
       "<table border=\"1\" class=\"dataframe\">\n",
       "  <thead>\n",
       "    <tr style=\"text-align: right;\">\n",
       "      <th></th>\n",
       "      <th>num_songs</th>\n",
       "      <th>artist_id</th>\n",
       "      <th>artist_latitude</th>\n",
       "      <th>artist_longitude</th>\n",
       "      <th>artist_location</th>\n",
       "      <th>artist_name</th>\n",
       "      <th>song_id</th>\n",
       "      <th>title</th>\n",
       "      <th>duration</th>\n",
       "      <th>year</th>\n",
       "    </tr>\n",
       "  </thead>\n",
       "  <tbody>\n",
       "    <tr>\n",
       "      <th>0</th>\n",
       "      <td>1</td>\n",
       "      <td>AR8IEZO1187B99055E</td>\n",
       "      <td>NaN</td>\n",
       "      <td>NaN</td>\n",
       "      <td></td>\n",
       "      <td>Marc Shaiman</td>\n",
       "      <td>SOINLJW12A8C13314C</td>\n",
       "      <td>City Slickers</td>\n",
       "      <td>149.86404</td>\n",
       "      <td>2008</td>\n",
       "    </tr>\n",
       "    <tr>\n",
       "      <th>1</th>\n",
       "      <td>1</td>\n",
       "      <td>AR558FS1187FB45658</td>\n",
       "      <td>NaN</td>\n",
       "      <td>NaN</td>\n",
       "      <td></td>\n",
       "      <td>40 Grit</td>\n",
       "      <td>SOGDBUF12A8C140FAA</td>\n",
       "      <td>Intro</td>\n",
       "      <td>75.67628</td>\n",
       "      <td>2003</td>\n",
       "    </tr>\n",
       "    <tr>\n",
       "      <th>2</th>\n",
       "      <td>1</td>\n",
       "      <td>ARVBRGZ1187FB4675A</td>\n",
       "      <td>NaN</td>\n",
       "      <td>NaN</td>\n",
       "      <td></td>\n",
       "      <td>Gwen Stefani</td>\n",
       "      <td>SORRZGD12A6310DBC3</td>\n",
       "      <td>Harajuku Girls</td>\n",
       "      <td>290.55955</td>\n",
       "      <td>2004</td>\n",
       "    </tr>\n",
       "    <tr>\n",
       "      <th>3</th>\n",
       "      <td>1</td>\n",
       "      <td>ARNF6401187FB57032</td>\n",
       "      <td>40.79086</td>\n",
       "      <td>-73.96644</td>\n",
       "      <td>New York, NY [Manhattan]</td>\n",
       "      <td>Sophie B. Hawkins</td>\n",
       "      <td>SONWXQJ12A8C134D94</td>\n",
       "      <td>The Ballad Of Sleeping Beauty</td>\n",
       "      <td>305.16200</td>\n",
       "      <td>1994</td>\n",
       "    </tr>\n",
       "    <tr>\n",
       "      <th>4</th>\n",
       "      <td>1</td>\n",
       "      <td>AREVWGE1187B9B890A</td>\n",
       "      <td>-13.44200</td>\n",
       "      <td>-41.99520</td>\n",
       "      <td>Noci (BA)</td>\n",
       "      <td>Bitter End</td>\n",
       "      <td>SOFCHDR12AB01866EF</td>\n",
       "      <td>Living Hell</td>\n",
       "      <td>282.43546</td>\n",
       "      <td>0</td>\n",
       "    </tr>\n",
       "  </tbody>\n",
       "</table>\n",
       "</div>"
      ],
      "text/plain": [
       "   num_songs           artist_id  artist_latitude  artist_longitude  \\\n",
       "0          1  AR8IEZO1187B99055E              NaN               NaN   \n",
       "1          1  AR558FS1187FB45658              NaN               NaN   \n",
       "2          1  ARVBRGZ1187FB4675A              NaN               NaN   \n",
       "3          1  ARNF6401187FB57032         40.79086         -73.96644   \n",
       "4          1  AREVWGE1187B9B890A        -13.44200         -41.99520   \n",
       "\n",
       "            artist_location        artist_name             song_id  \\\n",
       "0                                 Marc Shaiman  SOINLJW12A8C13314C   \n",
       "1                                      40 Grit  SOGDBUF12A8C140FAA   \n",
       "2                                 Gwen Stefani  SORRZGD12A6310DBC3   \n",
       "3  New York, NY [Manhattan]  Sophie B. Hawkins  SONWXQJ12A8C134D94   \n",
       "4                 Noci (BA)         Bitter End  SOFCHDR12AB01866EF   \n",
       "\n",
       "                           title   duration  year  \n",
       "0                  City Slickers  149.86404  2008  \n",
       "1                          Intro   75.67628  2003  \n",
       "2                 Harajuku Girls  290.55955  2004  \n",
       "3  The Ballad Of Sleeping Beauty  305.16200  1994  \n",
       "4                    Living Hell  282.43546     0  "
      ]
     },
     "execution_count": 6,
     "metadata": {},
     "output_type": "execute_result"
    }
   ],
   "source": [
    "df = pd.DataFrame()\n",
    "for filepath in filepaths:\n",
    "    temp = pd.read_json(filepath, lines=True)\n",
    "    df = df.append(temp, ignore_index=True)\n",
    "\n",
    "df.head()"
   ]
  },
  {
   "cell_type": "markdown",
   "metadata": {
    "editable": true
   },
   "source": [
    "## #1: `songs` Table\n",
    "#### Extract Data for Songs Table\n",
    "- Select columns for song ID, title, artist ID, year, and duration\n",
    "- Use `df.values` to select just the values from the dataframe\n",
    "- Index to select the first (only) record in the dataframe\n",
    "- Convert the array to a list and set it to `song_data`"
   ]
  },
  {
   "cell_type": "code",
   "execution_count": 7,
   "metadata": {
    "editable": true
   },
   "outputs": [],
   "source": [
    "song_data = df[['song_id', 'title', 'artist_id', 'year', 'duration']].values.tolist()\n",
    "\n",
    "song_data = song_data\n"
   ]
  },
  {
   "cell_type": "code",
   "execution_count": 8,
   "metadata": {
    "editable": true
   },
   "outputs": [],
   "source": [
    "import numpy as np\n",
    "df.fillna(\"\", inplace=True)\n",
    "df.dropna(axis='index', how='any', subset=['artist_id', 'song_id', 'duration'], inplace=True)"
   ]
  },
  {
   "cell_type": "markdown",
   "metadata": {
    "editable": true
   },
   "source": [
    "#### Insert Record into Song Table\n",
    "Implement the `song_table_insert` query in `sql_queries.py` and run the cell below to insert a record for this song into the `songs` table. Remember to run `create_tables.py` before running the cell below to ensure you've created/resetted the `songs` table in the sparkify database."
   ]
  },
  {
   "cell_type": "code",
   "execution_count": 9,
   "metadata": {
    "editable": true
   },
   "outputs": [
    {
     "name": "stdout",
     "output_type": "stream",
     "text": [
      "['SOINLJW12A8C13314C', 'City Slickers', 'AR8IEZO1187B99055E', 2008, 149.86404]\n"
     ]
    },
    {
     "ename": "IntegrityError",
     "evalue": "insert or update on table \"song\" violates foreign key constraint \"song_artist_id_fkey\"\nDETAIL:  Key (artist_id)=(AR8IEZO1187B99055E) is not present in table \"artist\".\n",
     "output_type": "error",
     "traceback": [
      "\u001b[0;31m---------------------------------------------------------------------------\u001b[0m",
      "\u001b[0;31mIntegrityError\u001b[0m                            Traceback (most recent call last)",
      "\u001b[0;32m<ipython-input-9-c82da43b64d6>\u001b[0m in \u001b[0;36m<module>\u001b[0;34m()\u001b[0m\n\u001b[1;32m      1\u001b[0m \u001b[0;32mfor\u001b[0m \u001b[0mrow\u001b[0m \u001b[0;32min\u001b[0m \u001b[0msong_data\u001b[0m\u001b[0;34m:\u001b[0m\u001b[0;34m\u001b[0m\u001b[0m\n\u001b[1;32m      2\u001b[0m     \u001b[0mprint\u001b[0m\u001b[0;34m(\u001b[0m\u001b[0mrow\u001b[0m\u001b[0;34m)\u001b[0m\u001b[0;34m\u001b[0m\u001b[0m\n\u001b[0;32m----> 3\u001b[0;31m     \u001b[0mcur\u001b[0m\u001b[0;34m.\u001b[0m\u001b[0mexecute\u001b[0m\u001b[0;34m(\u001b[0m\u001b[0msong_table_insert\u001b[0m\u001b[0;34m,\u001b[0m \u001b[0mrow\u001b[0m\u001b[0;34m)\u001b[0m\u001b[0;34m\u001b[0m\u001b[0m\n\u001b[0m\u001b[1;32m      4\u001b[0m     \u001b[0mconn\u001b[0m\u001b[0;34m.\u001b[0m\u001b[0mcommit\u001b[0m\u001b[0;34m(\u001b[0m\u001b[0;34m)\u001b[0m\u001b[0;34m\u001b[0m\u001b[0m\n",
      "\u001b[0;31mIntegrityError\u001b[0m: insert or update on table \"song\" violates foreign key constraint \"song_artist_id_fkey\"\nDETAIL:  Key (artist_id)=(AR8IEZO1187B99055E) is not present in table \"artist\".\n"
     ]
    }
   ],
   "source": [
    "for row in song_data:\n",
    "    print(row)\n",
    "    cur.execute(song_table_insert, row)\n",
    "    conn.commit()"
   ]
  },
  {
   "cell_type": "markdown",
   "metadata": {
    "editable": true
   },
   "source": [
    "Run `test.ipynb` to see if you've successfully added a record to this table."
   ]
  },
  {
   "cell_type": "markdown",
   "metadata": {
    "editable": true
   },
   "source": [
    "## #2: `artists` Table\n",
    "#### Extract Data for Artists Table\n",
    "- Select columns for artist ID, name, location, latitude, and longitude\n",
    "- Use `df.values` to select just the values from the dataframe\n",
    "- Index to select the first (only) record in the dataframe\n",
    "- Convert the array to a list and set it to `artist_data`"
   ]
  },
  {
   "cell_type": "code",
   "execution_count": null,
   "metadata": {
    "editable": true
   },
   "outputs": [],
   "source": [
    "artist_data = df[['artist_id', 'artist_name', 'artist_location', 'artist_latitude', 'artist_longitude']].values.tolist()\n",
    "df[['artist_id', 'artist_name', 'artist_location', 'artist_latitude', 'artist_longitude']]"
   ]
  },
  {
   "cell_type": "markdown",
   "metadata": {
    "editable": true
   },
   "source": [
    "#### Insert Record into Artist Table\n",
    "Implement the `artist_table_insert` query in `sql_queries.py` and run the cell below to insert a record for this song's artist into the `artists` table. Remember to run `create_tables.py` before running the cell below to ensure you've created/resetted the `artists` table in the sparkify database."
   ]
  },
  {
   "cell_type": "code",
   "execution_count": null,
   "metadata": {
    "editable": true
   },
   "outputs": [],
   "source": [
    "for row in artist_data:\n",
    "    print(row)\n",
    "    cur.execute(artist_table_insert, row)\n",
    "    conn.commit()"
   ]
  },
  {
   "cell_type": "markdown",
   "metadata": {
    "editable": true
   },
   "source": [
    "Run `test.ipynb` to see if you've successfully added a record to this table."
   ]
  },
  {
   "cell_type": "markdown",
   "metadata": {
    "editable": true
   },
   "source": [
    "# Process `log_data`\n",
    "In this part, you'll perform ETL on the second dataset, `log_data`, to create the `time` and `users` dimensional tables, as well as the `songplays` fact table.\n",
    "\n",
    "Let's perform ETL on a single log file and load a single record into each table.\n",
    "- Use the `get_files` function provided above to get a list of all log JSON files in `data/log_data`\n",
    "- Select the first log file in this list\n",
    "- Read the log file and view the data"
   ]
  },
  {
   "cell_type": "code",
   "execution_count": null,
   "metadata": {
    "editable": true
   },
   "outputs": [],
   "source": [
    "log_files = get_files('data/log_data')"
   ]
  },
  {
   "cell_type": "code",
   "execution_count": null,
   "metadata": {
    "editable": true
   },
   "outputs": [],
   "source": [
    "filepath = log_files\n",
    "filepath"
   ]
  },
  {
   "cell_type": "code",
   "execution_count": null,
   "metadata": {
    "editable": true
   },
   "outputs": [],
   "source": [
    "df = pd.DataFrame()\n",
    "for file in filepath:\n",
    "    df = df.append(pd.read_json(file, lines=True), ignore_index=True)\n",
    "\n",
    "df.info() #8056\n",
    "df.head()\n",
    "df.fillna(np.nan, inplace=True)\n",
    "df.dropna(axis='index', how='any', subset=['artist', 'length', 'song'], inplace=True)\n",
    "df.info()\n",
    "df[(df['registration'] == 1540919166796.0)]\n",
    "df[(df['length'] < 1)]\n",
    "df.dtypes"
   ]
  },
  {
   "cell_type": "markdown",
   "metadata": {
    "editable": true
   },
   "source": [
    "## #3: `time` Table\n",
    "#### Extract Data for Time Table\n",
    "- Filter records by `NextSong` action\n",
    "- Convert the `ts` timestamp column to datetime\n",
    "  - Hint: the current timestamp is in milliseconds\n",
    "- Extract the timestamp, hour, day, week of year, month, year, and weekday from the `ts` column and set `time_data` to a list containing these values in order\n",
    "  - Hint: use pandas' [`dt` attribute](https://pandas.pydata.org/pandas-docs/stable/reference/api/pandas.Series.dt.html) to access easily datetimelike properties.\n",
    "- Specify labels for these columns and set to `column_labels`\n",
    "- Create a dataframe, `time_df,` containing the time data for this file by combining `column_labels` and `time_data` into a dictionary and converting this into a dataframe"
   ]
  },
  {
   "cell_type": "code",
   "execution_count": null,
   "metadata": {
    "editable": true
   },
   "outputs": [],
   "source": [
    "filt = (df['page'] == 'NextSong')\n",
    "df_next_song = df[filt]\n",
    "df_next_song.head()\n",
    "df_next_song.shape"
   ]
  },
  {
   "cell_type": "code",
   "execution_count": null,
   "metadata": {
    "editable": true
   },
   "outputs": [],
   "source": [
    "t = pd.to_datetime(df_next_song['ts'], unit='ms')\n",
    "t.head(5)"
   ]
  },
  {
   "cell_type": "code",
   "execution_count": null,
   "metadata": {
    "editable": true
   },
   "outputs": [],
   "source": [
    "time_data = pd.concat([t, t.dt.hour, t.dt.day, t.dt.weekofyear, t.dt.month, t.dt.year, t.dt.weekday], axis=1)\n",
    "time_data\n",
    "column_labels = (\"start_time\", \"hour\", \"day\", \"weekofyear\", \"month\", \"year\", \"weekday\")"
   ]
  },
  {
   "cell_type": "code",
   "execution_count": null,
   "metadata": {
    "editable": true
   },
   "outputs": [],
   "source": [
    "time_df = pd.DataFrame(data=time_data.values, columns=column_labels)\n",
    "time_df.head()"
   ]
  },
  {
   "cell_type": "markdown",
   "metadata": {
    "editable": true
   },
   "source": [
    "#### Insert Records into Time Table\n",
    "Implement the `time_table_insert` query in `sql_queries.py` and run the cell below to insert records for the timestamps in this log file into the `time` table. Remember to run `create_tables.py` before running the cell below to ensure you've created/resetted the `time` table in the sparkify database."
   ]
  },
  {
   "cell_type": "code",
   "execution_count": null,
   "metadata": {
    "editable": true
   },
   "outputs": [],
   "source": [
    "for i, row in time_df.iterrows():\n",
    "    cur.execute(time_table_insert, list(row))\n",
    "    conn.commit()"
   ]
  },
  {
   "cell_type": "markdown",
   "metadata": {
    "editable": true
   },
   "source": [
    "Run `test.ipynb` to see if you've successfully added records to this table."
   ]
  },
  {
   "cell_type": "markdown",
   "metadata": {
    "editable": true
   },
   "source": [
    "## #4: `users` Table\n",
    "#### Extract Data for Users Table\n",
    "- Select columns for user ID, first name, last name, gender and level and set to `user_df`"
   ]
  },
  {
   "cell_type": "code",
   "execution_count": null,
   "metadata": {
    "editable": true
   },
   "outputs": [],
   "source": [
    "df.columns\n",
    "user_df = df[['userId', 'firstName', 'lastName', 'gender', 'level']]\n",
    "user_df[user_df['userId'] == 24]\n",
    "user_df.head()"
   ]
  },
  {
   "cell_type": "markdown",
   "metadata": {
    "editable": true
   },
   "source": [
    "#### Insert Records into Users Table\n",
    "Implement the `user_table_insert` query in `sql_queries.py` and run the cell below to insert records for the users in this log file into the `users` table. Remember to run `create_tables.py` before running the cell below to ensure you've created/resetted the `users` table in the sparkify database."
   ]
  },
  {
   "cell_type": "code",
   "execution_count": null,
   "metadata": {
    "editable": true
   },
   "outputs": [],
   "source": [
    "for i, row in user_df.iterrows():\n",
    "    cur.execute(user_table_insert, row)\n",
    "    conn.commit()"
   ]
  },
  {
   "cell_type": "markdown",
   "metadata": {
    "editable": true
   },
   "source": [
    "Run `test.ipynb` to see if you've successfully added records to this table."
   ]
  },
  {
   "cell_type": "markdown",
   "metadata": {
    "editable": true
   },
   "source": [
    "## #5: `songplays` Table\n",
    "#### Extract Data and Songplays Table\n",
    "This one is a little more complicated since information from the songs table, artists table, and original log file are all needed for the `songplays` table. Since the log file does not specify an ID for either the song or the artist, you'll need to get the song ID and artist ID by querying the songs and artists tables to find matches based on song title, artist name, and song duration time.\n",
    "- Implement the `song_select` query in `sql_queries.py` to find the song ID and artist ID based on the title, artist name, and duration of a song.\n",
    "- Select the timestamp, user ID, level, song ID, artist ID, session ID, location, and user agent and set to `songplay_data`\n",
    "\n",
    "#### Insert Records into Songplays Table\n",
    "- Implement the `songplay_table_insert` query and run the cell below to insert records for the songplay actions in this log file into the `songplays` table. Remember to run `create_tables.py` before running the cell below to ensure you've created/resetted the `songplays` table in the sparkify database."
   ]
  },
  {
   "cell_type": "code",
   "execution_count": null,
   "metadata": {
    "editable": true
   },
   "outputs": [],
   "source": [
    "for index, row in df.iterrows():\n",
    "    # get songid and artistid from song and artist tables\n",
    "#     print(f\"{row.ts}|{row.userId}|{row.level}|{row.song}|{row.artist}|{row.sessionId}|{row.location}|{row.userAgent}|{row.length}|\")\n",
    "    cur.execute(song_select, (row.song, row.artist, row.length))\n",
    "    results = cur.fetchone()\n",
    "#     print(results)\n",
    "    \n",
    "    if results:\n",
    "        print(row)\n",
    "        print(results)\n",
    "        songid, artistid = results\n",
    "        \n",
    "        # insert songplay record\n",
    "        songplay_data = (pd.to_datetime(row.ts, unit='ms'), row.userId, row.level, songid, artistid, row.sessionId, row.location, row.userAgent)\n",
    "        cur.execute(songplay_table_insert, songplay_data)\n",
    "        conn.commit()\n",
    "    else:\n",
    "        songid, artistid = None, None\n"
   ]
  },
  {
   "cell_type": "markdown",
   "metadata": {
    "editable": true
   },
   "source": [
    "Run `test.ipynb` to see if you've successfully added records to this table."
   ]
  },
  {
   "cell_type": "markdown",
   "metadata": {
    "editable": true
   },
   "source": [
    "# Close Connection to Sparkify Database"
   ]
  },
  {
   "cell_type": "code",
   "execution_count": null,
   "metadata": {
    "editable": true
   },
   "outputs": [],
   "source": [
    "conn.close()"
   ]
  },
  {
   "cell_type": "markdown",
   "metadata": {
    "editable": true
   },
   "source": [
    "# Implement `etl.py`\n",
    "Use what you've completed in this notebook to implement `etl.py`."
   ]
  }
 ],
 "metadata": {
  "kernelspec": {
   "display_name": "Python 3",
   "language": "python",
   "name": "python3"
  },
  "language_info": {
   "codemirror_mode": {
    "name": "ipython",
    "version": 3
   },
   "file_extension": ".py",
   "mimetype": "text/x-python",
   "name": "python",
   "nbconvert_exporter": "python",
   "pygments_lexer": "ipython3",
   "version": "3.6.3"
  }
 },
 "nbformat": 4,
 "nbformat_minor": 4
}
